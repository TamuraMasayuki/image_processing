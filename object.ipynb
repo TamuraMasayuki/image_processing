{
 "cells": [
  {
   "cell_type": "code",
   "execution_count": 14,
   "metadata": {},
   "outputs": [],
   "source": [
    "import cv2\n",
    "import numpy as np\n",
    "import matplotlib.pyplot as plt\n",
    "import copy"
   ]
  },
  {
   "cell_type": "code",
   "execution_count": 36,
   "metadata": {},
   "outputs": [],
   "source": [
    "class Morphology(object):\n",
    "    def __init__(self, img):\n",
    "        # 画像をグレースケールに変換\n",
    "        img = cv2.cvtColor(img, cv2.COLOR_RGB2GRAY)\n",
    "        # 判別分析法により2値化\n",
    "        self.img = binarize(img)\n",
    "        self.len_ver = len(img)\n",
    "        self.len_hor = len(img[0])\n",
    "        self.on = self.img\n",
    "\n",
    "    # オープニング\n",
    "    def open(self, iteration=1):\n",
    "        self.erode(self.on, iteration)\n",
    "        self.dilate(self.on, iteration)\n",
    "        self.opening = self.on\n",
    "\n",
    "    # クロージング\n",
    "    def close(self, iteration=1):\n",
    "        self.dilate(self.on, iteration)\n",
    "        self.erode(self.on, iteration)\n",
    "        self.closing = self.on\n",
    "\n",
    "\n",
    "\n",
    "    # 画像を表示する\n",
    "    def view(self):\n",
    "        plt.imshow(self.on)\n",
    "\n",
    "    # 画像を保存する\n",
    "    def save(self, img_name):\n",
    "        cv2.imwrite(img_name, self.on)\n",
    "\n",
    "    # 重心を求める\n",
    "    def center(self):\n",
    "        # モーメント\n",
    "        m_0 = m_x = m_y = 0\n",
    "        for i in range(self.len_ver):\n",
    "            for j in range(self.len_hor):\n",
    "                if self.on[i][j] == 0:\n",
    "                    m_0 += 1\n",
    "                    m_x += i\n",
    "                    m_y += j\n",
    "\n",
    "        m_x /= m_0\n",
    "        m_y /= m_0\n",
    "        \n",
    "        # 重心の座標\n",
    "        self.cg = [m_x, m_y]\n",
    "\n",
    "    # 外接長方形を求める\n",
    "    def rect(self):\n",
    "        x_min = x_max = y_min = y_max = 0\n",
    "\n",
    "        for i in range(self.len_ver):\n",
    "            if np.sum(self.on[i]) != 255*self.len_hor:\n",
    "                y_min = i\n",
    "                break\n",
    "\n",
    "        for i in range(1, self.len_ver+1):\n",
    "            if np.sum(self.on[-i]) != 255*self.len_hor:\n",
    "                y_max = i\n",
    "                break\n",
    "\n",
    "        for i in range(self.len_hor):\n",
    "            if np.sum(self.on[:][i]) != 255*self.len_ver:\n",
    "                x_min = i\n",
    "                break\n",
    "\n",
    "        for i in range(1, self.len_hor+1):\n",
    "            if np.sum(self.on[:][-i]) != 255*self.len_ver:\n",
    "                x_max = i\n",
    "                break\n",
    "\n",
    "        # 外接長方形の座標の最小値、最大値\n",
    "        self.ractangle = [x_min, x_max, y_min, y_max]\n",
    "\n",
    "# 判別分析法による2値化\n",
    "def binarize(img):\n",
    "    len_ver = len(img)\n",
    "    len_hor = len(img[0])\n",
    "\n",
    "    # ヒストグラムを作成\n",
    "    histgram = np.zeros(256)\n",
    "    for i in range(0, len_ver):\n",
    "        for j in range(0, len_hor):\n",
    "            histgram[img[i][j]] += 1\n",
    "\n",
    "    # 閾値tとクラス間最大分散を初期化\n",
    "    threshold = max_val = 0\n",
    "\n",
    "    # 判別分析法で閾値tを求める\n",
    "    for t in range(256):\n",
    "\n",
    "        # クラス別画素数\n",
    "        w1 = w2 = 0\n",
    "        # クラス別合計画素値\n",
    "        sum1 = sum2 = 0\n",
    "        # クラス別平均\n",
    "        m1 = m2 = 0\n",
    "\n",
    "        for i in range(0, t):\n",
    "            w1 += histgram[i]\n",
    "            sum1 += i*histgram[i]\n",
    "        \n",
    "        for j in range(t, 256):\n",
    "            w2 += histgram[j]\n",
    "            sum2 += j*histgram[j]\n",
    "\n",
    "        # 0徐算を避ける\n",
    "        if w1 == 0 or w2 == 0:\n",
    "            continue\n",
    "\n",
    "        # クラス別平均を算出\n",
    "        m1 = sum1 / w1\n",
    "        m2 = sum2 / w2\n",
    "\n",
    "        # 結果を算出（簡略版）\n",
    "        result = w1*w2*(m1-m2)*(m1-m2)\n",
    "\n",
    "        if max_val < result:\n",
    "            max_val = result\n",
    "            threshold = t\n",
    "\n",
    "    for i in range(len(img)):\n",
    "        for j in range(len(img[0])):\n",
    "            if img[i][j] < threshold:\n",
    "                img[i][j] = 0\n",
    "            else:\n",
    "                img[i][j] = 255\n",
    "\n",
    "    return img\n",
    "\n",
    "# 膨張\n",
    "def dilate(img, iteration=1):\n",
    "    len_ver = len(img)\n",
    "    len_hor = len(img[0])\n",
    "\n",
    "    for iterate in range(iteration):\n",
    "        img_dilate = np.full([len_ver, len_hor], 255)\n",
    "        for i in range(1, len_ver-1):\n",
    "            for j in range(1, len_hor-1):\n",
    "                if np.sum(img[i-1:i+2, j-1:j+2]) != 255*9:\n",
    "                    img_dilate[i-1:i+2, j-1:j+2] = 0\n",
    "        img = img_dilate\n",
    "\n",
    "    return img_dilate\n",
    "\n",
    "# 収縮\n",
    "def erode(img, iteration=1):\n",
    "    len_ver = len(img)\n",
    "    len_hor = len(img[0])\n",
    "\n",
    "    for iterate in range(iteration):\n",
    "        img_erode = copy.deepcopy(img)\n",
    "        for i in range(1, len_ver-1):\n",
    "            for j in range(1, len_hor-1):\n",
    "                if np.sum(img[i-1:i+2, j-1:j+2]) != 0:\n",
    "                    img_erode[i-1:i+2, j-1:j+2] = 255\n",
    "        img = img_erode\n",
    "\n",
    "    return img_erode"
   ]
  },
  {
   "cell_type": "code",
   "execution_count": 37,
   "metadata": {},
   "outputs": [],
   "source": [
    "img = cv2.imread('/Users/tamuramasayuki/Desktop/3S/画像処理工学/package20200618/samples/paramecium.bmp')"
   ]
  },
  {
   "cell_type": "code",
   "execution_count": 38,
   "metadata": {},
   "outputs": [],
   "source": [
    "mor = Morphology(img)"
   ]
  },
  {
   "cell_type": "code",
   "execution_count": 39,
   "metadata": {},
   "outputs": [
    {
     "output_type": "display_data",
     "data": {
      "text/plain": "<Figure size 432x288 with 1 Axes>",
      "image/svg+xml": "<?xml version=\"1.0\" encoding=\"utf-8\" standalone=\"no\"?>\n<!DOCTYPE svg PUBLIC \"-//W3C//DTD SVG 1.1//EN\"\n  \"http://www.w3.org/Graphics/SVG/1.1/DTD/svg11.dtd\">\n<!-- Created with matplotlib (https://matplotlib.org/) -->\n<svg height=\"251.954944pt\" version=\"1.1\" viewBox=\"0 0 257.9275 251.954944\" width=\"257.9275pt\" xmlns=\"http://www.w3.org/2000/svg\" xmlns:xlink=\"http://www.w3.org/1999/xlink\">\n <defs>\n  <style type=\"text/css\">\n*{stroke-linecap:butt;stroke-linejoin:round;}\n  </style>\n </defs>\n <g id=\"figure_1\">\n  <g id=\"patch_1\">\n   <path d=\"M 0 251.954944 \nL 257.9275 251.954944 \nL 257.9275 0 \nL 0 0 \nz\n\" style=\"fill:none;\"/>\n  </g>\n  <g id=\"axes_1\">\n   <g id=\"patch_2\">\n    <path d=\"M 33.2875 228.076819 \nL 250.7275 228.076819 \nL 250.7275 10.636819 \nL 33.2875 10.636819 \nz\n\" style=\"fill:#ffffff;\"/>\n   </g>\n   <g clip-path=\"url(#p345566b44f)\">\n    <image height=\"218\" id=\"imagec30179cb8c\" transform=\"scale(1 -1)translate(0 -218)\" width=\"218\" x=\"33.2875\" xlink:href=\"data:image/png;base64,\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\" y=\"-10.076819\"/>\n   </g>\n   <g id=\"matplotlib.axis_1\">\n    <g id=\"xtick_1\">\n     <g id=\"line2d_1\">\n      <defs>\n       <path d=\"M 0 0 \nL 0 3.5 \n\" id=\"mb68009e43c\" style=\"stroke:#000000;stroke-width:0.8;\"/>\n      </defs>\n      <g>\n       <use style=\"stroke:#000000;stroke-width:0.8;\" x=\"33.6499\" xlink:href=\"#mb68009e43c\" y=\"228.076819\"/>\n      </g>\n     </g>\n     <g id=\"text_1\">\n      <!-- 0 -->\n      <defs>\n       <path d=\"M 31.78125 66.40625 \nQ 24.171875 66.40625 20.328125 58.90625 \nQ 16.5 51.421875 16.5 36.375 \nQ 16.5 21.390625 20.328125 13.890625 \nQ 24.171875 6.390625 31.78125 6.390625 \nQ 39.453125 6.390625 43.28125 13.890625 \nQ 47.125 21.390625 47.125 36.375 \nQ 47.125 51.421875 43.28125 58.90625 \nQ 39.453125 66.40625 31.78125 66.40625 \nz\nM 31.78125 74.21875 \nQ 44.046875 74.21875 50.515625 64.515625 \nQ 56.984375 54.828125 56.984375 36.375 \nQ 56.984375 17.96875 50.515625 8.265625 \nQ 44.046875 -1.421875 31.78125 -1.421875 \nQ 19.53125 -1.421875 13.0625 8.265625 \nQ 6.59375 17.96875 6.59375 36.375 \nQ 6.59375 54.828125 13.0625 64.515625 \nQ 19.53125 74.21875 31.78125 74.21875 \nz\n\" id=\"DejaVuSans-48\"/>\n      </defs>\n      <g transform=\"translate(30.46865 242.675256)scale(0.1 -0.1)\">\n       <use xlink:href=\"#DejaVuSans-48\"/>\n      </g>\n     </g>\n    </g>\n    <g id=\"xtick_2\">\n     <g id=\"line2d_2\">\n      <g>\n       <use style=\"stroke:#000000;stroke-width:0.8;\" x=\"69.8899\" xlink:href=\"#mb68009e43c\" y=\"228.076819\"/>\n      </g>\n     </g>\n     <g id=\"text_2\">\n      <!-- 50 -->\n      <defs>\n       <path d=\"M 10.796875 72.90625 \nL 49.515625 72.90625 \nL 49.515625 64.59375 \nL 19.828125 64.59375 \nL 19.828125 46.734375 \nQ 21.96875 47.46875 24.109375 47.828125 \nQ 26.265625 48.1875 28.421875 48.1875 \nQ 40.625 48.1875 47.75 41.5 \nQ 54.890625 34.8125 54.890625 23.390625 \nQ 54.890625 11.625 47.5625 5.09375 \nQ 40.234375 -1.421875 26.90625 -1.421875 \nQ 22.3125 -1.421875 17.546875 -0.640625 \nQ 12.796875 0.140625 7.71875 1.703125 \nL 7.71875 11.625 \nQ 12.109375 9.234375 16.796875 8.0625 \nQ 21.484375 6.890625 26.703125 6.890625 \nQ 35.15625 6.890625 40.078125 11.328125 \nQ 45.015625 15.765625 45.015625 23.390625 \nQ 45.015625 31 40.078125 35.4375 \nQ 35.15625 39.890625 26.703125 39.890625 \nQ 22.75 39.890625 18.8125 39.015625 \nQ 14.890625 38.140625 10.796875 36.28125 \nz\n\" id=\"DejaVuSans-53\"/>\n      </defs>\n      <g transform=\"translate(63.5274 242.675256)scale(0.1 -0.1)\">\n       <use xlink:href=\"#DejaVuSans-53\"/>\n       <use x=\"63.623047\" xlink:href=\"#DejaVuSans-48\"/>\n      </g>\n     </g>\n    </g>\n    <g id=\"xtick_3\">\n     <g id=\"line2d_3\">\n      <g>\n       <use style=\"stroke:#000000;stroke-width:0.8;\" x=\"106.1299\" xlink:href=\"#mb68009e43c\" y=\"228.076819\"/>\n      </g>\n     </g>\n     <g id=\"text_3\">\n      <!-- 100 -->\n      <defs>\n       <path d=\"M 12.40625 8.296875 \nL 28.515625 8.296875 \nL 28.515625 63.921875 \nL 10.984375 60.40625 \nL 10.984375 69.390625 \nL 28.421875 72.90625 \nL 38.28125 72.90625 \nL 38.28125 8.296875 \nL 54.390625 8.296875 \nL 54.390625 0 \nL 12.40625 0 \nz\n\" id=\"DejaVuSans-49\"/>\n      </defs>\n      <g transform=\"translate(96.58615 242.675256)scale(0.1 -0.1)\">\n       <use xlink:href=\"#DejaVuSans-49\"/>\n       <use x=\"63.623047\" xlink:href=\"#DejaVuSans-48\"/>\n       <use x=\"127.246094\" xlink:href=\"#DejaVuSans-48\"/>\n      </g>\n     </g>\n    </g>\n    <g id=\"xtick_4\">\n     <g id=\"line2d_4\">\n      <g>\n       <use style=\"stroke:#000000;stroke-width:0.8;\" x=\"142.3699\" xlink:href=\"#mb68009e43c\" y=\"228.076819\"/>\n      </g>\n     </g>\n     <g id=\"text_4\">\n      <!-- 150 -->\n      <g transform=\"translate(132.82615 242.675256)scale(0.1 -0.1)\">\n       <use xlink:href=\"#DejaVuSans-49\"/>\n       <use x=\"63.623047\" xlink:href=\"#DejaVuSans-53\"/>\n       <use x=\"127.246094\" xlink:href=\"#DejaVuSans-48\"/>\n      </g>\n     </g>\n    </g>\n    <g id=\"xtick_5\">\n     <g id=\"line2d_5\">\n      <g>\n       <use style=\"stroke:#000000;stroke-width:0.8;\" x=\"178.6099\" xlink:href=\"#mb68009e43c\" y=\"228.076819\"/>\n      </g>\n     </g>\n     <g id=\"text_5\">\n      <!-- 200 -->\n      <defs>\n       <path d=\"M 19.1875 8.296875 \nL 53.609375 8.296875 \nL 53.609375 0 \nL 7.328125 0 \nL 7.328125 8.296875 \nQ 12.9375 14.109375 22.625 23.890625 \nQ 32.328125 33.6875 34.8125 36.53125 \nQ 39.546875 41.84375 41.421875 45.53125 \nQ 43.3125 49.21875 43.3125 52.78125 \nQ 43.3125 58.59375 39.234375 62.25 \nQ 35.15625 65.921875 28.609375 65.921875 \nQ 23.96875 65.921875 18.8125 64.3125 \nQ 13.671875 62.703125 7.8125 59.421875 \nL 7.8125 69.390625 \nQ 13.765625 71.78125 18.9375 73 \nQ 24.125 74.21875 28.421875 74.21875 \nQ 39.75 74.21875 46.484375 68.546875 \nQ 53.21875 62.890625 53.21875 53.421875 \nQ 53.21875 48.921875 51.53125 44.890625 \nQ 49.859375 40.875 45.40625 35.40625 \nQ 44.1875 33.984375 37.640625 27.21875 \nQ 31.109375 20.453125 19.1875 8.296875 \nz\n\" id=\"DejaVuSans-50\"/>\n      </defs>\n      <g transform=\"translate(169.06615 242.675256)scale(0.1 -0.1)\">\n       <use xlink:href=\"#DejaVuSans-50\"/>\n       <use x=\"63.623047\" xlink:href=\"#DejaVuSans-48\"/>\n       <use x=\"127.246094\" xlink:href=\"#DejaVuSans-48\"/>\n      </g>\n     </g>\n    </g>\n    <g id=\"xtick_6\">\n     <g id=\"line2d_6\">\n      <g>\n       <use style=\"stroke:#000000;stroke-width:0.8;\" x=\"214.8499\" xlink:href=\"#mb68009e43c\" y=\"228.076819\"/>\n      </g>\n     </g>\n     <g id=\"text_6\">\n      <!-- 250 -->\n      <g transform=\"translate(205.30615 242.675256)scale(0.1 -0.1)\">\n       <use xlink:href=\"#DejaVuSans-50\"/>\n       <use x=\"63.623047\" xlink:href=\"#DejaVuSans-53\"/>\n       <use x=\"127.246094\" xlink:href=\"#DejaVuSans-48\"/>\n      </g>\n     </g>\n    </g>\n   </g>\n   <g id=\"matplotlib.axis_2\">\n    <g id=\"ytick_1\">\n     <g id=\"line2d_7\">\n      <defs>\n       <path d=\"M 0 0 \nL -3.5 0 \n\" id=\"m415d691449\" style=\"stroke:#000000;stroke-width:0.8;\"/>\n      </defs>\n      <g>\n       <use style=\"stroke:#000000;stroke-width:0.8;\" x=\"33.2875\" xlink:href=\"#m415d691449\" y=\"10.999219\"/>\n      </g>\n     </g>\n     <g id=\"text_7\">\n      <!-- 0 -->\n      <g transform=\"translate(19.925 14.798437)scale(0.1 -0.1)\">\n       <use xlink:href=\"#DejaVuSans-48\"/>\n      </g>\n     </g>\n    </g>\n    <g id=\"ytick_2\">\n     <g id=\"line2d_8\">\n      <g>\n       <use style=\"stroke:#000000;stroke-width:0.8;\" x=\"33.2875\" xlink:href=\"#m415d691449\" y=\"47.239219\"/>\n      </g>\n     </g>\n     <g id=\"text_8\">\n      <!-- 50 -->\n      <g transform=\"translate(13.5625 51.038437)scale(0.1 -0.1)\">\n       <use xlink:href=\"#DejaVuSans-53\"/>\n       <use x=\"63.623047\" xlink:href=\"#DejaVuSans-48\"/>\n      </g>\n     </g>\n    </g>\n    <g id=\"ytick_3\">\n     <g id=\"line2d_9\">\n      <g>\n       <use style=\"stroke:#000000;stroke-width:0.8;\" x=\"33.2875\" xlink:href=\"#m415d691449\" y=\"83.479219\"/>\n      </g>\n     </g>\n     <g id=\"text_9\">\n      <!-- 100 -->\n      <g transform=\"translate(7.2 87.278437)scale(0.1 -0.1)\">\n       <use xlink:href=\"#DejaVuSans-49\"/>\n       <use x=\"63.623047\" xlink:href=\"#DejaVuSans-48\"/>\n       <use x=\"127.246094\" xlink:href=\"#DejaVuSans-48\"/>\n      </g>\n     </g>\n    </g>\n    <g id=\"ytick_4\">\n     <g id=\"line2d_10\">\n      <g>\n       <use style=\"stroke:#000000;stroke-width:0.8;\" x=\"33.2875\" xlink:href=\"#m415d691449\" y=\"119.719219\"/>\n      </g>\n     </g>\n     <g id=\"text_10\">\n      <!-- 150 -->\n      <g transform=\"translate(7.2 123.518437)scale(0.1 -0.1)\">\n       <use xlink:href=\"#DejaVuSans-49\"/>\n       <use x=\"63.623047\" xlink:href=\"#DejaVuSans-53\"/>\n       <use x=\"127.246094\" xlink:href=\"#DejaVuSans-48\"/>\n      </g>\n     </g>\n    </g>\n    <g id=\"ytick_5\">\n     <g id=\"line2d_11\">\n      <g>\n       <use style=\"stroke:#000000;stroke-width:0.8;\" x=\"33.2875\" xlink:href=\"#m415d691449\" y=\"155.959219\"/>\n      </g>\n     </g>\n     <g id=\"text_11\">\n      <!-- 200 -->\n      <g transform=\"translate(7.2 159.758437)scale(0.1 -0.1)\">\n       <use xlink:href=\"#DejaVuSans-50\"/>\n       <use x=\"63.623047\" xlink:href=\"#DejaVuSans-48\"/>\n       <use x=\"127.246094\" xlink:href=\"#DejaVuSans-48\"/>\n      </g>\n     </g>\n    </g>\n    <g id=\"ytick_6\">\n     <g id=\"line2d_12\">\n      <g>\n       <use style=\"stroke:#000000;stroke-width:0.8;\" x=\"33.2875\" xlink:href=\"#m415d691449\" y=\"192.199219\"/>\n      </g>\n     </g>\n     <g id=\"text_12\">\n      <!-- 250 -->\n      <g transform=\"translate(7.2 195.998437)scale(0.1 -0.1)\">\n       <use xlink:href=\"#DejaVuSans-50\"/>\n       <use x=\"63.623047\" xlink:href=\"#DejaVuSans-53\"/>\n       <use x=\"127.246094\" xlink:href=\"#DejaVuSans-48\"/>\n      </g>\n     </g>\n    </g>\n   </g>\n   <g id=\"patch_3\">\n    <path d=\"M 33.2875 228.076819 \nL 33.2875 10.636819 \n\" style=\"fill:none;stroke:#000000;stroke-linecap:square;stroke-linejoin:miter;stroke-width:0.8;\"/>\n   </g>\n   <g id=\"patch_4\">\n    <path d=\"M 250.7275 228.076819 \nL 250.7275 10.636819 \n\" style=\"fill:none;stroke:#000000;stroke-linecap:square;stroke-linejoin:miter;stroke-width:0.8;\"/>\n   </g>\n   <g id=\"patch_5\">\n    <path d=\"M 33.2875 228.076819 \nL 250.7275 228.076819 \n\" style=\"fill:none;stroke:#000000;stroke-linecap:square;stroke-linejoin:miter;stroke-width:0.8;\"/>\n   </g>\n   <g id=\"patch_6\">\n    <path d=\"M 33.2875 10.636819 \nL 250.7275 10.636819 \n\" style=\"fill:none;stroke:#000000;stroke-linecap:square;stroke-linejoin:miter;stroke-width:0.8;\"/>\n   </g>\n  </g>\n </g>\n <defs>\n  <clipPath id=\"p345566b44f\">\n   <rect height=\"217.44\" width=\"217.44\" x=\"33.2875\" y=\"10.636819\"/>\n  </clipPath>\n </defs>\n</svg>\n",
      "image/png": "[encoded data removed]"
     },
     "metadata": {
      "needs_background": "light"
     }
    }
   ],
   "source": [
    "mor.view()"
   ]
  },
  {
   "cell_type": "code",
   "execution_count": 19,
   "metadata": {},
   "outputs": [],
   "source": [
    "mor.save('binarize.bmp')"
   ]
  },
  {
   "cell_type": "code",
   "execution_count": 40,
   "metadata": {},
   "outputs": [
    {
     "output_type": "error",
     "ename": "TypeError",
     "evalue": "dilate() takes from 1 to 2 positional arguments but 3 were given",
     "traceback": [
      "\u001b[0;31m---------------------------------------------------------------------------\u001b[0m",
      "\u001b[0;31mTypeError\u001b[0m                                 Traceback (most recent call last)",
      "\u001b[0;32m<ipython-input-40-7d4b812dcb7f>\u001b[0m in \u001b[0;36m<module>\u001b[0;34m\u001b[0m\n\u001b[0;32m----> 1\u001b[0;31m \u001b[0mmor\u001b[0m\u001b[0;34m.\u001b[0m\u001b[0mclose\u001b[0m\u001b[0;34m(\u001b[0m\u001b[0;36m4\u001b[0m\u001b[0;34m)\u001b[0m\u001b[0;34m\u001b[0m\u001b[0;34m\u001b[0m\u001b[0m\n\u001b[0m",
      "\u001b[0;32m<ipython-input-36-a0f52eba4d39>\u001b[0m in \u001b[0;36mclose\u001b[0;34m(self, iteration)\u001b[0m\n\u001b[1;32m     17\u001b[0m     \u001b[0;31m# クロージング\u001b[0m\u001b[0;34m\u001b[0m\u001b[0;34m\u001b[0m\u001b[0;34m\u001b[0m\u001b[0m\n\u001b[1;32m     18\u001b[0m     \u001b[0;32mdef\u001b[0m \u001b[0mclose\u001b[0m\u001b[0;34m(\u001b[0m\u001b[0mself\u001b[0m\u001b[0;34m,\u001b[0m \u001b[0miteration\u001b[0m\u001b[0;34m=\u001b[0m\u001b[0;36m1\u001b[0m\u001b[0;34m)\u001b[0m\u001b[0;34m:\u001b[0m\u001b[0;34m\u001b[0m\u001b[0;34m\u001b[0m\u001b[0m\n\u001b[0;32m---> 19\u001b[0;31m         \u001b[0mself\u001b[0m\u001b[0;34m.\u001b[0m\u001b[0mdilate\u001b[0m\u001b[0;34m(\u001b[0m\u001b[0mself\u001b[0m\u001b[0;34m.\u001b[0m\u001b[0mon\u001b[0m\u001b[0;34m,\u001b[0m \u001b[0miteration\u001b[0m\u001b[0;34m)\u001b[0m\u001b[0;34m\u001b[0m\u001b[0;34m\u001b[0m\u001b[0m\n\u001b[0m\u001b[1;32m     20\u001b[0m         \u001b[0mself\u001b[0m\u001b[0;34m.\u001b[0m\u001b[0merode\u001b[0m\u001b[0;34m(\u001b[0m\u001b[0mself\u001b[0m\u001b[0;34m.\u001b[0m\u001b[0mon\u001b[0m\u001b[0;34m,\u001b[0m \u001b[0miteration\u001b[0m\u001b[0;34m)\u001b[0m\u001b[0;34m\u001b[0m\u001b[0;34m\u001b[0m\u001b[0m\n\u001b[1;32m     21\u001b[0m         \u001b[0mself\u001b[0m\u001b[0;34m.\u001b[0m\u001b[0mclosing\u001b[0m \u001b[0;34m=\u001b[0m \u001b[0mself\u001b[0m\u001b[0;34m.\u001b[0m\u001b[0mon\u001b[0m\u001b[0;34m\u001b[0m\u001b[0;34m\u001b[0m\u001b[0m\n",
      "\u001b[0;31mTypeError\u001b[0m: dilate() takes from 1 to 2 positional arguments but 3 were given"
     ]
    }
   ],
   "source": [
    "mor.close(4)"
   ]
  },
  {
   "cell_type": "code",
   "execution_count": 21,
   "metadata": {},
   "outputs": [
    {
     "output_type": "display_data",
     "data": {
      "text/plain": "<Figure size 432x288 with 1 Axes>",
      "image/svg+xml": "<?xml version=\"1.0\" encoding=\"utf-8\" standalone=\"no\"?>\n<!DOCTYPE svg PUBLIC \"-//W3C//DTD SVG 1.1//EN\"\n  \"http://www.w3.org/Graphics/SVG/1.1/DTD/svg11.dtd\">\n<!-- Created with matplotlib (https://matplotlib.org/) -->\n<svg height=\"251.954944pt\" version=\"1.1\" viewBox=\"0 0 257.9275 251.954944\" width=\"257.9275pt\" xmlns=\"http://www.w3.org/2000/svg\" xmlns:xlink=\"http://www.w3.org/1999/xlink\">\n <defs>\n  <style type=\"text/css\">\n*{stroke-linecap:butt;stroke-linejoin:round;}\n  </style>\n </defs>\n <g id=\"figure_1\">\n  <g id=\"patch_1\">\n   <path d=\"M 0 251.954944 \nL 257.9275 251.954944 \nL 257.9275 0 \nL 0 0 \nz\n\" style=\"fill:none;\"/>\n  </g>\n  <g id=\"axes_1\">\n   <g id=\"patch_2\">\n    <path d=\"M 33.2875 228.076819 \nL 250.7275 228.076819 \nL 250.7275 10.636819 \nL 33.2875 10.636819 \nz\n\" style=\"fill:#ffffff;\"/>\n   </g>\n   <g clip-path=\"url(#p5e8f1048f0)\">\n    <image height=\"218\" id=\"image84761146fc\" transform=\"scale(1 -1)translate(0 -218)\" width=\"218\" x=\"33.2875\" xlink:href=\"data:image/png;base64,\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\" y=\"-10.076819\"/>\n   </g>\n   <g id=\"matplotlib.axis_1\">\n    <g id=\"xtick_1\">\n     <g id=\"line2d_1\">\n      <defs>\n       <path d=\"M 0 0 \nL 0 3.5 \n\" id=\"maf3630119e\" style=\"stroke:#000000;stroke-width:0.8;\"/>\n      </defs>\n      <g>\n       <use style=\"stroke:#000000;stroke-width:0.8;\" x=\"33.6499\" xlink:href=\"#maf3630119e\" y=\"228.076819\"/>\n      </g>\n     </g>\n     <g id=\"text_1\">\n      <!-- 0 -->\n      <defs>\n       <path d=\"M 31.78125 66.40625 \nQ 24.171875 66.40625 20.328125 58.90625 \nQ 16.5 51.421875 16.5 36.375 \nQ 16.5 21.390625 20.328125 13.890625 \nQ 24.171875 6.390625 31.78125 6.390625 \nQ 39.453125 6.390625 43.28125 13.890625 \nQ 47.125 21.390625 47.125 36.375 \nQ 47.125 51.421875 43.28125 58.90625 \nQ 39.453125 66.40625 31.78125 66.40625 \nz\nM 31.78125 74.21875 \nQ 44.046875 74.21875 50.515625 64.515625 \nQ 56.984375 54.828125 56.984375 36.375 \nQ 56.984375 17.96875 50.515625 8.265625 \nQ 44.046875 -1.421875 31.78125 -1.421875 \nQ 19.53125 -1.421875 13.0625 8.265625 \nQ 6.59375 17.96875 6.59375 36.375 \nQ 6.59375 54.828125 13.0625 64.515625 \nQ 19.53125 74.21875 31.78125 74.21875 \nz\n\" id=\"DejaVuSans-48\"/>\n      </defs>\n      <g transform=\"translate(30.46865 242.675256)scale(0.1 -0.1)\">\n       <use xlink:href=\"#DejaVuSans-48\"/>\n      </g>\n     </g>\n    </g>\n    <g id=\"xtick_2\">\n     <g id=\"line2d_2\">\n      <g>\n       <use style=\"stroke:#000000;stroke-width:0.8;\" x=\"69.8899\" xlink:href=\"#maf3630119e\" y=\"228.076819\"/>\n      </g>\n     </g>\n     <g id=\"text_2\">\n      <!-- 50 -->\n      <defs>\n       <path d=\"M 10.796875 72.90625 \nL 49.515625 72.90625 \nL 49.515625 64.59375 \nL 19.828125 64.59375 \nL 19.828125 46.734375 \nQ 21.96875 47.46875 24.109375 47.828125 \nQ 26.265625 48.1875 28.421875 48.1875 \nQ 40.625 48.1875 47.75 41.5 \nQ 54.890625 34.8125 54.890625 23.390625 \nQ 54.890625 11.625 47.5625 5.09375 \nQ 40.234375 -1.421875 26.90625 -1.421875 \nQ 22.3125 -1.421875 17.546875 -0.640625 \nQ 12.796875 0.140625 7.71875 1.703125 \nL 7.71875 11.625 \nQ 12.109375 9.234375 16.796875 8.0625 \nQ 21.484375 6.890625 26.703125 6.890625 \nQ 35.15625 6.890625 40.078125 11.328125 \nQ 45.015625 15.765625 45.015625 23.390625 \nQ 45.015625 31 40.078125 35.4375 \nQ 35.15625 39.890625 26.703125 39.890625 \nQ 22.75 39.890625 18.8125 39.015625 \nQ 14.890625 38.140625 10.796875 36.28125 \nz\n\" id=\"DejaVuSans-53\"/>\n      </defs>\n      <g transform=\"translate(63.5274 242.675256)scale(0.1 -0.1)\">\n       <use xlink:href=\"#DejaVuSans-53\"/>\n       <use x=\"63.623047\" xlink:href=\"#DejaVuSans-48\"/>\n      </g>\n     </g>\n    </g>\n    <g id=\"xtick_3\">\n     <g id=\"line2d_3\">\n      <g>\n       <use style=\"stroke:#000000;stroke-width:0.8;\" x=\"106.1299\" xlink:href=\"#maf3630119e\" y=\"228.076819\"/>\n      </g>\n     </g>\n     <g id=\"text_3\">\n      <!-- 100 -->\n      <defs>\n       <path d=\"M 12.40625 8.296875 \nL 28.515625 8.296875 \nL 28.515625 63.921875 \nL 10.984375 60.40625 \nL 10.984375 69.390625 \nL 28.421875 72.90625 \nL 38.28125 72.90625 \nL 38.28125 8.296875 \nL 54.390625 8.296875 \nL 54.390625 0 \nL 12.40625 0 \nz\n\" id=\"DejaVuSans-49\"/>\n      </defs>\n      <g transform=\"translate(96.58615 242.675256)scale(0.1 -0.1)\">\n       <use xlink:href=\"#DejaVuSans-49\"/>\n       <use x=\"63.623047\" xlink:href=\"#DejaVuSans-48\"/>\n       <use x=\"127.246094\" xlink:href=\"#DejaVuSans-48\"/>\n      </g>\n     </g>\n    </g>\n    <g id=\"xtick_4\">\n     <g id=\"line2d_4\">\n      <g>\n       <use style=\"stroke:#000000;stroke-width:0.8;\" x=\"142.3699\" xlink:href=\"#maf3630119e\" y=\"228.076819\"/>\n      </g>\n     </g>\n     <g id=\"text_4\">\n      <!-- 150 -->\n      <g transform=\"translate(132.82615 242.675256)scale(0.1 -0.1)\">\n       <use xlink:href=\"#DejaVuSans-49\"/>\n       <use x=\"63.623047\" xlink:href=\"#DejaVuSans-53\"/>\n       <use x=\"127.246094\" xlink:href=\"#DejaVuSans-48\"/>\n      </g>\n     </g>\n    </g>\n    <g id=\"xtick_5\">\n     <g id=\"line2d_5\">\n      <g>\n       <use style=\"stroke:#000000;stroke-width:0.8;\" x=\"178.6099\" xlink:href=\"#maf3630119e\" y=\"228.076819\"/>\n      </g>\n     </g>\n     <g id=\"text_5\">\n      <!-- 200 -->\n      <defs>\n       <path d=\"M 19.1875 8.296875 \nL 53.609375 8.296875 \nL 53.609375 0 \nL 7.328125 0 \nL 7.328125 8.296875 \nQ 12.9375 14.109375 22.625 23.890625 \nQ 32.328125 33.6875 34.8125 36.53125 \nQ 39.546875 41.84375 41.421875 45.53125 \nQ 43.3125 49.21875 43.3125 52.78125 \nQ 43.3125 58.59375 39.234375 62.25 \nQ 35.15625 65.921875 28.609375 65.921875 \nQ 23.96875 65.921875 18.8125 64.3125 \nQ 13.671875 62.703125 7.8125 59.421875 \nL 7.8125 69.390625 \nQ 13.765625 71.78125 18.9375 73 \nQ 24.125 74.21875 28.421875 74.21875 \nQ 39.75 74.21875 46.484375 68.546875 \nQ 53.21875 62.890625 53.21875 53.421875 \nQ 53.21875 48.921875 51.53125 44.890625 \nQ 49.859375 40.875 45.40625 35.40625 \nQ 44.1875 33.984375 37.640625 27.21875 \nQ 31.109375 20.453125 19.1875 8.296875 \nz\n\" id=\"DejaVuSans-50\"/>\n      </defs>\n      <g transform=\"translate(169.06615 242.675256)scale(0.1 -0.1)\">\n       <use xlink:href=\"#DejaVuSans-50\"/>\n       <use x=\"63.623047\" xlink:href=\"#DejaVuSans-48\"/>\n       <use x=\"127.246094\" xlink:href=\"#DejaVuSans-48\"/>\n      </g>\n     </g>\n    </g>\n    <g id=\"xtick_6\">\n     <g id=\"line2d_6\">\n      <g>\n       <use style=\"stroke:#000000;stroke-width:0.8;\" x=\"214.8499\" xlink:href=\"#maf3630119e\" y=\"228.076819\"/>\n      </g>\n     </g>\n     <g id=\"text_6\">\n      <!-- 250 -->\n      <g transform=\"translate(205.30615 242.675256)scale(0.1 -0.1)\">\n       <use xlink:href=\"#DejaVuSans-50\"/>\n       <use x=\"63.623047\" xlink:href=\"#DejaVuSans-53\"/>\n       <use x=\"127.246094\" xlink:href=\"#DejaVuSans-48\"/>\n      </g>\n     </g>\n    </g>\n   </g>\n   <g id=\"matplotlib.axis_2\">\n    <g id=\"ytick_1\">\n     <g id=\"line2d_7\">\n      <defs>\n       <path d=\"M 0 0 \nL -3.5 0 \n\" id=\"m9234517626\" style=\"stroke:#000000;stroke-width:0.8;\"/>\n      </defs>\n      <g>\n       <use style=\"stroke:#000000;stroke-width:0.8;\" x=\"33.2875\" xlink:href=\"#m9234517626\" y=\"10.999219\"/>\n      </g>\n     </g>\n     <g id=\"text_7\">\n      <!-- 0 -->\n      <g transform=\"translate(19.925 14.798437)scale(0.1 -0.1)\">\n       <use xlink:href=\"#DejaVuSans-48\"/>\n      </g>\n     </g>\n    </g>\n    <g id=\"ytick_2\">\n     <g id=\"line2d_8\">\n      <g>\n       <use style=\"stroke:#000000;stroke-width:0.8;\" x=\"33.2875\" xlink:href=\"#m9234517626\" y=\"47.239219\"/>\n      </g>\n     </g>\n     <g id=\"text_8\">\n      <!-- 50 -->\n      <g transform=\"translate(13.5625 51.038437)scale(0.1 -0.1)\">\n       <use xlink:href=\"#DejaVuSans-53\"/>\n       <use x=\"63.623047\" xlink:href=\"#DejaVuSans-48\"/>\n      </g>\n     </g>\n    </g>\n    <g id=\"ytick_3\">\n     <g id=\"line2d_9\">\n      <g>\n       <use style=\"stroke:#000000;stroke-width:0.8;\" x=\"33.2875\" xlink:href=\"#m9234517626\" y=\"83.479219\"/>\n      </g>\n     </g>\n     <g id=\"text_9\">\n      <!-- 100 -->\n      <g transform=\"translate(7.2 87.278437)scale(0.1 -0.1)\">\n       <use xlink:href=\"#DejaVuSans-49\"/>\n       <use x=\"63.623047\" xlink:href=\"#DejaVuSans-48\"/>\n       <use x=\"127.246094\" xlink:href=\"#DejaVuSans-48\"/>\n      </g>\n     </g>\n    </g>\n    <g id=\"ytick_4\">\n     <g id=\"line2d_10\">\n      <g>\n       <use style=\"stroke:#000000;stroke-width:0.8;\" x=\"33.2875\" xlink:href=\"#m9234517626\" y=\"119.719219\"/>\n      </g>\n     </g>\n     <g id=\"text_10\">\n      <!-- 150 -->\n      <g transform=\"translate(7.2 123.518437)scale(0.1 -0.1)\">\n       <use xlink:href=\"#DejaVuSans-49\"/>\n       <use x=\"63.623047\" xlink:href=\"#DejaVuSans-53\"/>\n       <use x=\"127.246094\" xlink:href=\"#DejaVuSans-48\"/>\n      </g>\n     </g>\n    </g>\n    <g id=\"ytick_5\">\n     <g id=\"line2d_11\">\n      <g>\n       <use style=\"stroke:#000000;stroke-width:0.8;\" x=\"33.2875\" xlink:href=\"#m9234517626\" y=\"155.959219\"/>\n      </g>\n     </g>\n     <g id=\"text_11\">\n      <!-- 200 -->\n      <g transform=\"translate(7.2 159.758437)scale(0.1 -0.1)\">\n       <use xlink:href=\"#DejaVuSans-50\"/>\n       <use x=\"63.623047\" xlink:href=\"#DejaVuSans-48\"/>\n       <use x=\"127.246094\" xlink:href=\"#DejaVuSans-48\"/>\n      </g>\n     </g>\n    </g>\n    <g id=\"ytick_6\">\n     <g id=\"line2d_12\">\n      <g>\n       <use style=\"stroke:#000000;stroke-width:0.8;\" x=\"33.2875\" xlink:href=\"#m9234517626\" y=\"192.199219\"/>\n      </g>\n     </g>\n     <g id=\"text_12\">\n      <!-- 250 -->\n      <g transform=\"translate(7.2 195.998437)scale(0.1 -0.1)\">\n       <use xlink:href=\"#DejaVuSans-50\"/>\n       <use x=\"63.623047\" xlink:href=\"#DejaVuSans-53\"/>\n       <use x=\"127.246094\" xlink:href=\"#DejaVuSans-48\"/>\n      </g>\n     </g>\n    </g>\n   </g>\n   <g id=\"patch_3\">\n    <path d=\"M 33.2875 228.076819 \nL 33.2875 10.636819 \n\" style=\"fill:none;stroke:#000000;stroke-linecap:square;stroke-linejoin:miter;stroke-width:0.8;\"/>\n   </g>\n   <g id=\"patch_4\">\n    <path d=\"M 250.7275 228.076819 \nL 250.7275 10.636819 \n\" style=\"fill:none;stroke:#000000;stroke-linecap:square;stroke-linejoin:miter;stroke-width:0.8;\"/>\n   </g>\n   <g id=\"patch_5\">\n    <path d=\"M 33.2875 228.076819 \nL 250.7275 228.076819 \n\" style=\"fill:none;stroke:#000000;stroke-linecap:square;stroke-linejoin:miter;stroke-width:0.8;\"/>\n   </g>\n   <g id=\"patch_6\">\n    <path d=\"M 33.2875 10.636819 \nL 250.7275 10.636819 \n\" style=\"fill:none;stroke:#000000;stroke-linecap:square;stroke-linejoin:miter;stroke-width:0.8;\"/>\n   </g>\n  </g>\n </g>\n <defs>\n  <clipPath id=\"p5e8f1048f0\">\n   <rect height=\"217.44\" width=\"217.44\" x=\"33.2875\" y=\"10.636819\"/>\n  </clipPath>\n </defs>\n</svg>\n",
      "image/png": "[encoded data removed]"
     },
     "metadata": {
      "needs_background": "light"
     }
    }
   ],
   "source": [
    "mor.view()"
   ]
  },
  {
   "cell_type": "code",
   "execution_count": 22,
   "metadata": {},
   "outputs": [],
   "source": [
    "mor.save('closing.bmp')"
   ]
  },
  {
   "cell_type": "code",
   "execution_count": 23,
   "metadata": {},
   "outputs": [],
   "source": [
    "mor.center()"
   ]
  },
  {
   "cell_type": "code",
   "execution_count": 24,
   "metadata": {},
   "outputs": [
    {
     "output_type": "stream",
     "name": "stdout",
     "text": "[140.89396212263267, 144.0675042190137]\n"
    }
   ],
   "source": [
    "print(mor.cg)"
   ]
  },
  {
   "cell_type": "code",
   "execution_count": 25,
   "metadata": {},
   "outputs": [],
   "source": [
    "mor.rect()"
   ]
  },
  {
   "cell_type": "code",
   "execution_count": 26,
   "metadata": {},
   "outputs": [
    {
     "output_type": "error",
     "ename": "AttributeError",
     "evalue": "'Morphology' object has no attribute 'rectangle'",
     "traceback": [
      "\u001b[0;31m---------------------------------------------------------------------------\u001b[0m",
      "\u001b[0;31mAttributeError\u001b[0m                            Traceback (most recent call last)",
      "\u001b[0;32m<ipython-input-26-6ecc3d52d6d6>\u001b[0m in \u001b[0;36m<module>\u001b[0;34m\u001b[0m\n\u001b[0;32m----> 1\u001b[0;31m \u001b[0mprint\u001b[0m\u001b[0;34m(\u001b[0m\u001b[0mmor\u001b[0m\u001b[0;34m.\u001b[0m\u001b[0mrectangle\u001b[0m\u001b[0;34m)\u001b[0m\u001b[0;34m\u001b[0m\u001b[0;34m\u001b[0m\u001b[0m\n\u001b[0m",
      "\u001b[0;31mAttributeError\u001b[0m: 'Morphology' object has no attribute 'rectangle'"
     ]
    }
   ],
   "source": [
    "print(mor.rectangle)"
   ]
  },
  {
   "cell_type": "code",
   "execution_count": null,
   "metadata": {},
   "outputs": [],
   "source": []
  }
 ],
 "metadata": {
  "language_info": {
   "codemirror_mode": {
    "name": "ipython",
    "version": 3
   },
   "file_extension": ".py",
   "mimetype": "text/x-python",
   "name": "python",
   "nbconvert_exporter": "python",
   "pygments_lexer": "ipython3",
   "version": "3.8.2-final"
  },
  "orig_nbformat": 2,
  "kernelspec": {
   "name": "python3",
   "display_name": "Python 3"
  }
 },
 "nbformat": 4,
 "nbformat_minor": 2
}